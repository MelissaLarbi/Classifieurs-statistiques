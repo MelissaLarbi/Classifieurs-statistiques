{
 "cells": [
  {
   "cell_type": "code",
   "execution_count": 8,
   "metadata": {},
   "outputs": [],
   "source": [
    "# c'est projet.py comme je veux utiliser le jupyter je le note comme ca et à la fin je le télécharge sous forme .pyfrom utils import AbstractClassifier\n",
    "\n",
    "from utils import AbstractClassifier\n",
    "\n",
    "def getPrior(train):\n",
    "    \"\"\"\n",
    "    renvoie un dictionnaire contenant l'estimation, et minPourcentage ainsi que maxPourcentage\n",
    "    \"\"\"\n",
    "    counterFunc =df.apply(lambda x: True if x[13]==1 else False , axis=1)\n",
    "    estimation=numOfRowsClasse1 =len(counterFunc[counterFunc == True].index)/train.shape[0]\n",
    "    return estimation \n",
    "    \n",
    "    \n",
    "def justePint():\n",
    "    print(\"juste Un essaie\")\n",
    "    \n",
    "    \n",
    "\n",
    "\n",
    "class APrioriClassifier(AbstractClassifier):\n",
    "    def __init__(self):\n",
    "        AbstractClassifier.__init__()\n",
    "        \n",
    "        \n",
    "\n",
    "\n",
    "\n",
    "\n",
    "\n",
    "\n",
    "\n",
    "\n",
    "\n",
    "\n",
    "\n",
    "\n"
   ]
  },
  {
   "cell_type": "code",
   "execution_count": null,
   "metadata": {},
   "outputs": [],
   "source": []
  }
 ],
 "metadata": {
  "kernelspec": {
   "display_name": "Python 3",
   "language": "python",
   "name": "python3"
  },
  "language_info": {
   "codemirror_mode": {
    "name": "ipython",
    "version": 3
   },
   "file_extension": ".py",
   "mimetype": "text/x-python",
   "name": "python",
   "nbconvert_exporter": "python",
   "pygments_lexer": "ipython3",
   "version": "3.7.6"
  }
 },
 "nbformat": 4,
 "nbformat_minor": 4
}
